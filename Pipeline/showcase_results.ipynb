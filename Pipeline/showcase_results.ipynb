{
 "cells": [
  {
   "cell_type": "code",
   "execution_count": 1,
   "id": "43d0028f-71e9-4fcd-914e-e442bbe62c22",
   "metadata": {},
   "outputs": [],
   "source": [
    "import napari\n",
    "import imio\n",
    "import sys"
   ]
  },
  {
   "cell_type": "code",
   "execution_count": 2,
   "id": "4bb5193d-b56a-42e2-9b43-62fab9b5747e",
   "metadata": {},
   "outputs": [],
   "source": [
    "sys.path.append(\"scripts\")\n",
    "sys.path.append(\"schema\")"
   ]
  },
  {
   "cell_type": "code",
   "execution_count": 3,
   "id": "b3a020b8-d56f-48e4-8074-da21c6989d4f",
   "metadata": {},
   "outputs": [],
   "source": [
    "from scripts import brainreg_utils as brg_utils\n",
    "from skimage.measure import label\n",
    "import determine_ids"
   ]
  },
  {
   "cell_type": "code",
   "execution_count": 4,
   "id": "f427edb1-ec14-48ed-91df-5a9126c0767f",
   "metadata": {},
   "outputs": [],
   "source": [
    "atlas = imio.load_any(\"/Users/titouanbrossy/Desktop/registered_atlas.tiff\")\n",
    "cfos_semantic = imio.load_any(\"/Users/titouanbrossy/Desktop/mouse_chickadee_inference_cont_reg_1_0.tiff\")\n",
    "cfos_instance = imio.load_any(\"/Users/titouanbrossy/Desktop/mouse_chickadee_instance_seg_cont_reg_1_0.tiff\")"
   ]
  },
  {
   "cell_type": "code",
   "execution_count": 5,
   "id": "2b967403-f746-4f5e-be6e-a3c22bdc4db6",
   "metadata": {},
   "outputs": [
    {
     "name": "stderr",
     "output_type": "stream",
     "text": [
      "/Users/titouanbrossy/Documents/GitHub/Pipeline-mesoSPIM/Pipeline/determine_ids.py:24: SettingWithCopyWarning: \n",
      "A value is trying to be set on a copy of a slice from a DataFrame.\n",
      "Try using .loc[row_indexer,col_indexer] = value instead\n",
      "\n",
      "See the caveats in the documentation: https://pandas.pydata.org/pandas-docs/stable/user_guide/indexing.html#returning-a-view-versus-a-copy\n",
      "  rslt_df_1[\"occurrence_coma\"] = rslt_df_1[\"name\"].str.count(\",\")\n",
      "/Users/titouanbrossy/Documents/GitHub/Pipeline-mesoSPIM/Pipeline/determine_ids.py:24: SettingWithCopyWarning: \n",
      "A value is trying to be set on a copy of a slice from a DataFrame.\n",
      "Try using .loc[row_indexer,col_indexer] = value instead\n",
      "\n",
      "See the caveats in the documentation: https://pandas.pydata.org/pandas-docs/stable/user_guide/indexing.html#returning-a-view-versus-a-copy\n",
      "  rslt_df_1[\"occurrence_coma\"] = rslt_df_1[\"name\"].str.count(\",\")\n",
      "/Users/titouanbrossy/Documents/GitHub/Pipeline-mesoSPIM/Pipeline/determine_ids.py:24: SettingWithCopyWarning: \n",
      "A value is trying to be set on a copy of a slice from a DataFrame.\n",
      "Try using .loc[row_indexer,col_indexer] = value instead\n",
      "\n",
      "See the caveats in the documentation: https://pandas.pydata.org/pandas-docs/stable/user_guide/indexing.html#returning-a-view-versus-a-copy\n",
      "  rslt_df_1[\"occurrence_coma\"] = rslt_df_1[\"name\"].str.count(\",\")\n"
     ]
    }
   ],
   "source": [
    "gn = [\"primary visual area\", \"primary motor area\", \"retrosplenial area\"]\n",
    "rois_list = determine_ids.extract_ids_of_selected_areas(atlas_name=\"allen_mouse_25um\", list_global_names=gn)"
   ]
  },
  {
   "cell_type": "code",
   "execution_count": 7,
   "id": "82b7f193-59f3-49ab-92fd-b34a63b2850b",
   "metadata": {},
   "outputs": [],
   "source": [
    "viewer = napari.Viewer()"
   ]
  },
  {
   "cell_type": "code",
   "execution_count": 11,
   "id": "2d5241a4-6139-4b34-9136-3732aaaf61f9",
   "metadata": {},
   "outputs": [
    {
     "data": {
      "text/plain": [
       "<Labels layer 'atlas' at 0x1709a4290>"
      ]
     },
     "execution_count": 11,
     "metadata": {},
     "output_type": "execute_result"
    }
   ],
   "source": [
    "viewer.add_labels(atlas)"
   ]
  },
  {
   "cell_type": "code",
   "execution_count": 12,
   "id": "8fefecdd-716c-4425-a5d6-632dcbd2c13e",
   "metadata": {},
   "outputs": [],
   "source": [
    "ratlas = brg_utils.get_roi_labels(rois_list, atlas)"
   ]
  },
  {
   "cell_type": "code",
   "execution_count": 13,
   "id": "3e08a59c-7bdb-4842-918a-b716b1f1b349",
   "metadata": {},
   "outputs": [
    {
     "data": {
      "text/plain": [
       "<Labels layer 'ratlas' at 0x148a1a010>"
      ]
     },
     "execution_count": 13,
     "metadata": {},
     "output_type": "execute_result"
    }
   ],
   "source": [
    "viewer.add_labels(ratlas)"
   ]
  },
  {
   "cell_type": "code",
   "execution_count": 14,
   "id": "221d58f2-7615-4c7b-af4f-31e070d43ecf",
   "metadata": {},
   "outputs": [],
   "source": [
    "ratlas_i = ratlas\n",
    "ratlas_i[ratlas_i != 0] = 1\n",
    "ratlas_cont, num_regions = label(ratlas_i, return_num=True)"
   ]
  },
  {
   "cell_type": "code",
   "execution_count": 15,
   "id": "e2a6acc8-8da1-4aab-8a22-63263a56a1b0",
   "metadata": {},
   "outputs": [
    {
     "data": {
      "text/plain": [
       "<Labels layer 'ratlas_cont' at 0x148917a90>"
      ]
     },
     "execution_count": 15,
     "metadata": {},
     "output_type": "execute_result"
    }
   ],
   "source": [
    "viewer.add_labels(ratlas_cont)"
   ]
  },
  {
   "cell_type": "code",
   "execution_count": 16,
   "id": "f213d092-28a0-40c5-a975-88a5fd7bcaac",
   "metadata": {},
   "outputs": [
    {
     "data": {
      "text/plain": [
       "<Image layer 'cfos_semantic' at 0x148915510>"
      ]
     },
     "execution_count": 16,
     "metadata": {},
     "output_type": "execute_result"
    }
   ],
   "source": [
    "viewer.add_image(cfos_semantic)"
   ]
  },
  {
   "cell_type": "code",
   "execution_count": 17,
   "id": "abdce833-0759-4feb-ba20-d9ee8885ec6b",
   "metadata": {},
   "outputs": [
    {
     "data": {
      "text/plain": [
       "<Labels layer 'cfos_instance' at 0x1488fcdd0>"
      ]
     },
     "execution_count": 17,
     "metadata": {},
     "output_type": "execute_result"
    }
   ],
   "source": [
    "viewer.add_labels(cfos_instance)"
   ]
  },
  {
   "cell_type": "code",
   "execution_count": 3,
   "id": "bca66a02-5b47-4d34-b878-fd78e6121ba2",
   "metadata": {},
   "outputs": [],
   "source": [
    "from bg_atlasapi import BrainGlobeAtlas\n",
    "bg_atlas = BrainGlobeAtlas(\"allen_mouse_25um\", check_latest=False)\n",
    "df = bg_atlas.lookup_df\n",
    "df[\"name\"] = df[\"name\"].str.lower()\n",
    "filtered_df = df[df['id'].isin([656, 962, 767])]"
   ]
  },
  {
   "cell_type": "code",
   "execution_count": 4,
   "id": "c125c6ef-8ca4-44aa-a798-c040dae280c7",
   "metadata": {},
   "outputs": [
    {
     "data": {
      "text/html": [
       "<div>\n",
       "<style scoped>\n",
       "    .dataframe tbody tr th:only-of-type {\n",
       "        vertical-align: middle;\n",
       "    }\n",
       "\n",
       "    .dataframe tbody tr th {\n",
       "        vertical-align: top;\n",
       "    }\n",
       "\n",
       "    .dataframe thead th {\n",
       "        text-align: right;\n",
       "    }\n",
       "</style>\n",
       "<table border=\"1\" class=\"dataframe\">\n",
       "  <thead>\n",
       "    <tr style=\"text-align: right;\">\n",
       "      <th></th>\n",
       "      <th>acronym</th>\n",
       "      <th>id</th>\n",
       "      <th>name</th>\n",
       "    </tr>\n",
       "  </thead>\n",
       "  <tbody>\n",
       "    <tr>\n",
       "      <th>20</th>\n",
       "      <td>MOs1</td>\n",
       "      <td>656</td>\n",
       "      <td>secondary motor area, layer 1</td>\n",
       "    </tr>\n",
       "    <tr>\n",
       "      <th>21</th>\n",
       "      <td>MOs2/3</td>\n",
       "      <td>962</td>\n",
       "      <td>secondary motor area, layer 2/3</td>\n",
       "    </tr>\n",
       "    <tr>\n",
       "      <th>22</th>\n",
       "      <td>MOs5</td>\n",
       "      <td>767</td>\n",
       "      <td>secondary motor area, layer 5</td>\n",
       "    </tr>\n",
       "  </tbody>\n",
       "</table>\n",
       "</div>"
      ],
      "text/plain": [
       "   acronym   id                             name\n",
       "20    MOs1  656    secondary motor area, layer 1\n",
       "21  MOs2/3  962  secondary motor area, layer 2/3\n",
       "22    MOs5  767    secondary motor area, layer 5"
      ]
     },
     "execution_count": 4,
     "metadata": {},
     "output_type": "execute_result"
    }
   ],
   "source": [
    "filtered_df"
   ]
  },
  {
   "cell_type": "code",
   "execution_count": null,
   "id": "126c4b0c-db16-4fbe-8cfa-96eea071436e",
   "metadata": {},
   "outputs": [],
   "source": []
  }
 ],
 "metadata": {
  "kernelspec": {
   "display_name": "Python 3 (ipykernel)",
   "language": "python",
   "name": "python3"
  },
  "language_info": {
   "codemirror_mode": {
    "name": "ipython",
    "version": 3
   },
   "file_extension": ".py",
   "mimetype": "text/x-python",
   "name": "python",
   "nbconvert_exporter": "python",
   "pygments_lexer": "ipython3",
   "version": "3.11.5"
  }
 },
 "nbformat": 4,
 "nbformat_minor": 5
}

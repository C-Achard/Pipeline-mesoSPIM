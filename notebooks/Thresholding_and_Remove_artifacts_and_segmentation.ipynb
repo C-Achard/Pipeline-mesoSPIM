{
 "cells": [
  {
   "cell_type": "markdown",
   "id": "67aa00be-fc26-45e7-96ce-ead393298c36",
   "metadata": {},
   "source": [
    "# Threshold all images in folder"
   ]
  },
  {
   "cell_type": "code",
   "execution_count": 1,
   "id": "024b6c74-32bb-4d94-90da-eafe58a231c0",
   "metadata": {
    "tags": []
   },
   "outputs": [],
   "source": [
    "from napari_cellseg3d.code_models.instance_segmentation import threshold, voronoi_otsu, binary_watershed, clear_small_objects, volume_stats, InstanceMethod\n",
    "from napari_cellseg3d.utils import get_all_matching_files, resize\n",
    "from tifffile import imread, imwrite\n",
    "import napari\n",
    "from napari.settings import get_settings\n",
    "from pathlib import Path\n",
    "import numpy as np\n",
    "import pandas as pd"
   ]
  },
  {
   "cell_type": "code",
   "execution_count": 2,
   "id": "9a66aef1-f177-4d5d-967f-07ce287b4d67",
   "metadata": {
    "tags": []
   },
   "outputs": [],
   "source": [
    "    # if ipy_interactive is false, each viewer will wait before continuing\n",
    "# otherwise you'll immediately get 4 viewers.\n",
    "\n",
    "settings = get_settings()\n",
    "settings.application.ipy_interactive = False"
   ]
  },
  {
   "cell_type": "code",
   "execution_count": 3,
   "id": "fd258552-1e05-410c-b13d-717933fd62eb",
   "metadata": {
    "tags": []
   },
   "outputs": [],
   "source": [
    "removed_border_paths = Path.cwd()/'inference_on_cropped_regions/Border_removed/'\n",
    "result_path = Path.cwd()/'instance_seg_on_cropped_regions/'"
   ]
  },
  {
   "cell_type": "code",
   "execution_count": 4,
   "id": "9bc536d1-8d29-492f-aaf9-bce36ba42d59",
   "metadata": {
    "tags": []
   },
   "outputs": [],
   "source": [
    "def show_napari_viewer(image, result, labels=False):\n",
    "    viewer = napari.view_image(result, colormap='inferno', opacity=0.7)\n",
    "    if labels:\n",
    "        viewer.add_labels(image)\n",
    "    else:\n",
    "        viewer.add_image(image, colormap='gray', opacity=0.7)\n",
    "    viewer.dims.ndisplay = 3\n",
    "    napari.run()"
   ]
  },
  {
   "cell_type": "code",
   "execution_count": 5,
   "id": "b76918bc-61ad-4a41-8ea9-88fba37fffe6",
   "metadata": {
    "tags": []
   },
   "outputs": [],
   "source": [
    "thresholded_images = []\n",
    "image_paths = get_all_matching_files(removed_border_paths)\n",
    "for file in image_paths:\n",
    "    image = imread(file)\n",
    "    result = threshold(image, 0.65)\n",
    "    #show_napari_viewer(image,result)    \n",
    "    thresholded_images.append(result)\n",
    "    \n"
   ]
  },
  {
   "cell_type": "code",
   "execution_count": 6,
   "id": "2a6fb932-184c-4ace-82e0-45bd55109344",
   "metadata": {
    "tags": []
   },
   "outputs": [
    {
     "name": "stdout",
     "output_type": "stream",
     "text": [
      "size: 222\n"
     ]
    },
    {
     "name": "stderr",
     "output_type": "stream",
     "text": [
      "divide by zero encountered in double_scalars\n",
      "invalid value encountered in double_scalars\n",
      "Due to divisions by zero issues, 0 sphericities were set to NaN. This occurs for objects with a volume of 1 pixel.\n"
     ]
    },
    {
     "name": "stdout",
     "output_type": "stream",
     "text": [
      "mouse_name:  ALUSKY\n",
      "region : primary motor\n",
      "9960\n",
      "saving here : /home/cyril/Desktop/results_CFos_1.25x/instance_seg_on_cropped_regions/ALUSKY_ROI_primary motor_SwinUNetR_pred_1_2023_11_22_18_04_17_rmBorders.csv\n",
      "size: 211\n"
     ]
    },
    {
     "name": "stderr",
     "output_type": "stream",
     "text": [
      "Due to divisions by zero issues, 0 sphericities were set to NaN. This occurs for objects with a volume of 1 pixel.\n"
     ]
    },
    {
     "name": "stdout",
     "output_type": "stream",
     "text": [
      "mouse_name:  BALDEAGLE\n",
      "region : primary motor\n",
      "11292\n",
      "saving here : /home/cyril/Desktop/results_CFos_1.25x/instance_seg_on_cropped_regions/BALDEAGLE_ROI_primary motor_SwinUNetR_pred_2_2023_11_22_18_08_34_rmBorders.csv\n",
      "size: 266\n"
     ]
    },
    {
     "name": "stderr",
     "output_type": "stream",
     "text": [
      "Due to divisions by zero issues, 0 sphericities were set to NaN. This occurs for objects with a volume of 1 pixel.\n"
     ]
    },
    {
     "name": "stdout",
     "output_type": "stream",
     "text": [
      "mouse_name:  CHICKADEE\n",
      "region : primary motor\n",
      "26611\n",
      "saving here : /home/cyril/Desktop/results_CFos_1.25x/instance_seg_on_cropped_regions/CHICKADEE_ROI_primary motor_SwinUNetR_pred_3_2023_11_22_18_13_20_rmBorders.csv\n",
      "size: 226\n"
     ]
    },
    {
     "name": "stderr",
     "output_type": "stream",
     "text": [
      "Due to divisions by zero issues, 0 sphericities were set to NaN. This occurs for objects with a volume of 1 pixel.\n"
     ]
    },
    {
     "name": "stdout",
     "output_type": "stream",
     "text": [
      "mouse_name:  DOLPHIN\n",
      "region : primary motor\n",
      "19693\n",
      "saving here : /home/cyril/Desktop/results_CFos_1.25x/instance_seg_on_cropped_regions/DOLPHIN_ROI_primary motor_SwinUNetR_pred_4_2023_11_22_18_18_12_rmBorders.csv\n",
      "size: 233\n"
     ]
    },
    {
     "name": "stderr",
     "output_type": "stream",
     "text": [
      "Due to divisions by zero issues, 0 sphericities were set to NaN. This occurs for objects with a volume of 1 pixel.\n"
     ]
    },
    {
     "name": "stdout",
     "output_type": "stream",
     "text": [
      "mouse_name:  ESKIPOO\n",
      "region : primary motor\n",
      "22032\n",
      "saving here : /home/cyril/Desktop/results_CFos_1.25x/instance_seg_on_cropped_regions/ESKIPOO_ROI_primary motor_SwinUNetR_pred_5_2023_11_22_18_22_11_rmBorders.csv\n",
      "size: 214\n"
     ]
    },
    {
     "name": "stderr",
     "output_type": "stream",
     "text": [
      "Due to divisions by zero issues, 0 sphericities were set to NaN. This occurs for objects with a volume of 1 pixel.\n"
     ]
    },
    {
     "name": "stdout",
     "output_type": "stream",
     "text": [
      "mouse_name:  FurrowBee\n",
      "region : primary motor\n",
      "11248\n",
      "saving here : /home/cyril/Desktop/results_CFos_1.25x/instance_seg_on_cropped_regions/FurrowBee_ROI_primary motor_SwinUNetR_pred_6_2023_11_22_18_26_57_rmBorders.csv\n",
      "size: 236\n"
     ]
    },
    {
     "name": "stderr",
     "output_type": "stream",
     "text": [
      "Due to divisions by zero issues, 0 sphericities were set to NaN. This occurs for objects with a volume of 1 pixel.\n"
     ]
    },
    {
     "name": "stdout",
     "output_type": "stream",
     "text": [
      "mouse_name:  GAR\n",
      "region : primary motor\n",
      "17131\n",
      "saving here : /home/cyril/Desktop/results_CFos_1.25x/instance_seg_on_cropped_regions/GAR_ROI_primary motor_SwinUNetR_pred_7_2023_11_22_18_31_03_rmBorders.csv\n",
      "size: 226\n"
     ]
    },
    {
     "name": "stderr",
     "output_type": "stream",
     "text": [
      "Due to divisions by zero issues, 0 sphericities were set to NaN. This occurs for objects with a volume of 1 pixel.\n"
     ]
    },
    {
     "name": "stdout",
     "output_type": "stream",
     "text": [
      "mouse_name:  YETI\n",
      "region : primary motor\n",
      "18678\n",
      "saving here : /home/cyril/Desktop/results_CFos_1.25x/instance_seg_on_cropped_regions/YETI_ROI_primary motor_SwinUNetR_pred_8_2023_11_22_18_35_48_rmBorders.csv\n",
      "size: 209\n"
     ]
    },
    {
     "name": "stderr",
     "output_type": "stream",
     "text": [
      "Due to divisions by zero issues, 0 sphericities were set to NaN. This occurs for objects with a volume of 1 pixel.\n"
     ]
    },
    {
     "name": "stdout",
     "output_type": "stream",
     "text": [
      "mouse_name:  ZOKOR\n",
      "region : primary motor\n",
      "14210\n",
      "saving here : /home/cyril/Desktop/results_CFos_1.25x/instance_seg_on_cropped_regions/ZOKOR_ROI_primary motor_SwinUNetR_pred_9_2023_11_22_18_40_15_rmBorders.csv\n"
     ]
    }
   ],
   "source": [
    "for i, th_im in enumerate(thresholded_images):\n",
    "    binaryzed_im = binary_watershed(th_im, thres_objects = 0.1, thres_seeding=0.1, thres_small=500, rem_seed_thres=5)\n",
    "    result = np.where(binaryzed_im==0, th_im, 0)\n",
    "    resized_result = resize(result, zoom_factors = (1/3,1,1))\n",
    "    #show_napari_viewer(result,resized_result)\n",
    "    segmented_image = voronoi_otsu(resized_result, spot_sigma=0.5, outline_sigma=0.5)\n",
    "    #show_napari_viewer(segmented_image, resized_result, labels=True)\n",
    "\n",
    "    stats = volume_stats(segmented_image)\n",
    "    \n",
    "    image_name = image_paths[i].stem\n",
    "    df = pd.DataFrame(stats.get_dict())\n",
    "    print('mouse_name: ', image_name.split('_')[0])\n",
    "    print('region :' ,image_name.split('_')[2])\n",
    "    print(df['Number objects'][0])\n",
    "    print('saving here :', str(result_path)+'/'+image_name+'.csv')\n",
    "    df.to_csv(str(result_path)+'/'+image_name+'.csv')"
   ]
  },
  {
   "cell_type": "code",
   "execution_count": null,
   "id": "f2af052a-d9e0-4cfd-bcca-e96f4fe76592",
   "metadata": {},
   "outputs": [],
   "source": []
  }
 ],
 "metadata": {
  "kernelspec": {
   "display_name": "Python 3 (ipykernel)",
   "language": "python",
   "name": "python3"
  },
  "language_info": {
   "codemirror_mode": {
    "name": "ipython",
    "version": 3
   },
   "file_extension": ".py",
   "mimetype": "text/x-python",
   "name": "python",
   "nbconvert_exporter": "python",
   "pygments_lexer": "ipython3",
   "version": "3.11.5"
  }
 },
 "nbformat": 4,
 "nbformat_minor": 5
}
